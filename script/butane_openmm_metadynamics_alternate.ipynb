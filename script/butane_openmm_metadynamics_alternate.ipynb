{
 "cells": [
  {
   "cell_type": "code",
   "execution_count": 21,
   "metadata": {},
   "outputs": [],
   "source": [
    "import os, math, sys\n",
    "from sys import stdout\n",
    "\n",
    "import numpy as np\n",
    "import matplotlib.pyplot as plt\n",
    "import openmm.app  as omm_app\n",
    "import openmm as omm\n",
    "import simtk.unit as unit\n",
    "from tqdm import tqdm\n",
    "import mdtraj"
   ]
  },
  {
   "attachments": {},
   "cell_type": "markdown",
   "metadata": {},
   "source": [
    "### Citing: Most of the openmm data needed for butane and format of this notebook comes from [here](https://fastmbar.readthedocs.io/en/latest/butane_PMF.html)."
   ]
  },
  {
   "cell_type": "code",
   "execution_count": 22,
   "metadata": {},
   "outputs": [],
   "source": [
    "# Indicates whether to run a simulation or not\n",
    "SIMULATE = True"
   ]
  },
  {
   "attachments": {},
   "cell_type": "markdown",
   "metadata": {},
   "source": [
    "## 1. Construct an OpenMM system of butane\n",
    "We set up the MD molecular system in the format/object required by OpenMM, a class called\n",
    "[System](http://docs.openmm.org/7.1.0/api-python/generated/simtk.openmm.openmm.System.html)."
   ]
  },
  {
   "attachments": {},
   "cell_type": "markdown",
   "metadata": {},
   "source": [
    "We read in **psf** and **pdb** files for butane: butane.psf and butane.pdb.\n",
    "The psf file, butane.psf, contains the topology of butane and it is the topolgy file format used by [CHARMM](https://www.charmm.org/).\n",
    "The file used here is generated using CHARMM.\n",
    "OpenMM has parsers for topology files with different format from AMBER, CHARMM, etc."
   ]
  },
  {
   "cell_type": "code",
   "execution_count": 23,
   "metadata": {},
   "outputs": [],
   "source": [
    "psf = omm_app.CharmmPsfFile('../data/butane.psf')\n",
    "pdb = omm_app.PDBFile('../data/butane.pdb')\n",
    "topology = psf.topology"
   ]
  },
  {
   "cell_type": "markdown",
   "metadata": {},
   "source": [
    "Read CHARMM force field for butane. The CHARMM force field is downloaded from [here](http://mackerell.umaryland.edu/charmm_ff.shtml)"
   ]
  },
  {
   "cell_type": "code",
   "execution_count": 24,
   "metadata": {},
   "outputs": [],
   "source": [
    "params = omm_app.CharmmParameterSet('../data/top_all35_ethers.rtf',\n",
    "                                    '../data/par_all35_ethers.prm')"
   ]
  },
  {
   "cell_type": "markdown",
   "metadata": {},
   "source": [
    "Create a OpenMM system based on the psf file of butane and the CHARMM force field."
   ]
  },
  {
   "cell_type": "code",
   "execution_count": 25,
   "metadata": {},
   "outputs": [],
   "source": [
    "system = psf.createSystem(params, nonbondedMethod=omm_app.NoCutoff)"
   ]
  },
  {
   "attachments": {},
   "cell_type": "markdown",
   "metadata": {},
   "source": [
    "After constructing the OpenMM system of butane, we can save it in an XML formated text file, which can be used later for simulations. Therefore, if we want to use the same system in another script, we can just read the text file in an OpenMM system instead of constructing it again. This file is a readable text file and can be used to see what system information is used."
   ]
  },
  {
   "cell_type": "code",
   "execution_count": 26,
   "metadata": {},
   "outputs": [],
   "source": [
    "with open(\"../output/system.xml\", 'w') as file_handle:\n",
    "    file_handle.write(omm.XmlSerializer.serialize(system))"
   ]
  },
  {
   "cell_type": "code",
   "execution_count": 27,
   "metadata": {},
   "outputs": [],
   "source": [
    "## read the OpenMM system of butane\n",
    "with open(\"../output/system.xml\", 'r') as file_handle:\n",
    "    xml = file_handle.read()\n",
    "system = omm.XmlSerializer.deserialize(xml)\n",
    "\n",
    "## read psf and pdb file of butane\n",
    "psf = omm_app.CharmmPsfFile(\"../data/butane.psf\")\n",
    "pdb = omm_app.PDBFile('../data/butane.pdb')\n",
    "topology = psf.topology"
   ]
  },
  {
   "attachments": {},
   "cell_type": "markdown",
   "metadata": {},
   "source": [
    "# 1.a Set up Metadynamics"
   ]
  },
  {
   "cell_type": "code",
   "execution_count": 28,
   "metadata": {},
   "outputs": [],
   "source": [
    "# Define Collective Variable\n",
    "cv = omm.CustomTorsionForce(\"theta\")\n",
    "cv.addTorsion(3, 6, 9, 13)\n",
    "\n",
    "# Set metadynamics parameters\n",
    "biasWidth=0.1\n",
    "phi = omm_app.metadynamics.BiasVariable(force=cv, minValue=-np.pi, maxValue=np.pi, biasWidth=biasWidth, periodic=True)\n"
   ]
  },
  {
   "attachments": {},
   "cell_type": "markdown",
   "metadata": {},
   "source": [
    "# 2. Set up and run the simulation"
   ]
  },
  {
   "attachments": {},
   "cell_type": "markdown",
   "metadata": {},
   "source": [
    "In order to run simulations in OpenMM, we need to construct an OpenMM [context](http://docs.openmm.org/7.1.0/api-python/generated/simtk.openmm.openmm.Context.html), which consists of a system, an integrator and a platform.\n",
    "The system is the butane system we have constructed above.\n",
    "The integrator specifies what kind integration method we should use. Here, we will use Langevin dynamics, which corresponds to the [OpenMM.LangevinIntegrator](http://docs.openmm.org/7.1.0/api-python/generated/simtk.openmm.openmm.LangevinIntegrator.html) and the [OpenMM.LangevinMiddleIntegrator](http://docs.openmm.org/latest/api-python/generated/openmm.openmm.LangevinMiddleIntegrator.html). Here, we use the LangevinMiddleIntegrator based on [J. Phys. Chem. A 2019, 123, 28, 6056-6079](https://pubs.acs.org/doi/full/10.1021/acs.jpca.9b02771), closely related to the BAOAB [Proc. R. Soc. A. 472: 20160138](https://royalsocietypublishing.org/doi/abs/10.1098/rspa.2016.0138) scheme.\n",
    "\n",
    "The platform specifies what kind of hardware we will run simulation on. Here, we choose to use CPUs because the size of the system is quite small.\n",
    "\n",
    "Then, we initialize a [Simulation](http://docs.openmm.org/7.1.0/api-python/generated/simtk.openmm.app.simulation.Simulation.html), an api for running simulations and reporting results.\n"
   ]
  },
  {
   "cell_type": "code",
   "execution_count": 29,
   "metadata": {},
   "outputs": [],
   "source": [
    "## platform\n",
    "platform = omm.Platform.getPlatformByName('CPU')\n",
    "\n",
    "T = 300 * unit.kelvin  ## temperature\n",
    "kbT = unit.BOLTZMANN_CONSTANT_kB * T * unit.AVOGADRO_CONSTANT_NA \n",
    "kbT = kbT.value_in_unit(unit.kilojoule_per_mole)\n",
    "\n",
    "kbT_roomtemp = unit.BOLTZMANN_CONSTANT_kB*unit.AVOGADRO_CONSTANT_NA*300.0*unit.kelvin\n",
    "kbT_roomtemp = kbT_roomtemp.value_in_unit(unit.kilojoule_per_mole)\n",
    "\n",
    "# Set up metadynamics\n",
    "biasFactor = 20\n",
    "height = 0.2\n",
    "frequency = 1E2\n",
    "meta = omm_app.Metadynamics(system, variables=[phi], temperature=T, biasFactor=10, height=height, frequency=frequency)\n",
    "\n",
    "## integrator\n",
    "fricCoef = 10/unit.picoseconds ## friction coefficient \n",
    "stepsize = 2 * unit.femtoseconds ## integration step size\n",
    "integrator = omm.LangevinMiddleIntegrator(T, fricCoef, stepsize)\n",
    "simulation = omm_app.Simulation(topology, system, integrator)\n",
    "\n",
    "\n"
   ]
  },
  {
   "attachments": {},
   "cell_type": "markdown",
   "metadata": {},
   "source": [
    "We minimize the energy before running the simulations, and then add \"reporters\" to track various info on the simulation: the [DCD reporter](http://docs.openmm.org/7.2.0/api-python/generated/simtk.openmm.app.dcdreporter.DCDReporter.html#) records positions of atoms at each 100 steps (in a compressed format), and the [StateDataReporter](http://docs.openmm.org/7.1.0/api-python/generated/simtk.openmm.app.statedatareporter.StateDataReporter.html#) records the potential energy at each 100 steps.\n",
    "\n",
    "Then, we simulate."
   ]
  },
  {
   "cell_type": "code",
   "execution_count": 30,
   "metadata": {},
   "outputs": [
    {
     "name": "stdout",
     "output_type": "stream",
     "text": [
      "#\"Step\",\"Potential Energy (kJ/mole)\"\n",
      "1000000,94.5782691142361\n",
      "2000000,113.36407737133518\n",
      "3000000,111.88192497432001\n",
      "4000000,139.65433210694437\n",
      "5000000,133.29770089139666\n",
      "6000000,143.15953555193886\n",
      "7000000,135.26610027009883\n",
      "8000000,140.42607322518282\n",
      "9000000,141.7483138046986\n",
      "10000000,151.56001643424273\n"
     ]
    }
   ],
   "source": [
    "my_state = \"../output/traj/state_metad_alt.txt\"\n",
    "my_dcd = \"../output/traj/traj_metad_alt.dcd\"\n",
    "my_free_energy = \"../output/traj/free_energy_alt.npz\"\n",
    "\n",
    "if SIMULATE:\n",
    "    simulation.context.setPositions(pdb.positions)\n",
    "    if psf.boxVectors is not None:\n",
    "        print(\"we got box vectors!\")\n",
    "        simulation.context.setPeriodicBoxVectors(*psf.boxVectors)\n",
    "    simulation.minimizeEnergy()\n",
    "    \n",
    "    simulation.reporters.append(omm_app.DCDReporter(my_dcd, int(1E2)))\n",
    "    simulation.reporters.append(omm_app.StateDataReporter(my_state, 1E2, step=True, potentialEnergy=True))\n",
    "    simulation.reporters.append(omm_app.StateDataReporter(stdout, 1E6, step=True, potentialEnergy=True))\n",
    "    meta.step(simulation, 1E7)\n",
    "    np.savez(my_free_energy, free_energy=meta.getFreeEnergy())"
   ]
  },
  {
   "attachments": {},
   "cell_type": "markdown",
   "metadata": {},
   "source": [
    "## 3. RMSD-align trajectory frames to normalize out rotations and translations\n",
    "\n",
    "The command [superpose](https://mdtraj.org/1.9.4/api/generated/mdtraj.Trajectory.superpose.html) rotates/translates each frame of a trajectory (modifes `traj' object in place) to minimize the RMSD to a particular reference frame. The operation specifically used to find the RMSD between two frames is [here](https://github.com/mdtraj/mdtraj/blob/275102dc3e1a1b58f83366f1459ebab9fe575889/mdtraj/rmsd/src/theobald_rmsd.cpp) in the documentation for mdtraj.\n",
    "\n",
    "Here, we compute the butane dihedrals and\n",
    "save them in csv files. The dihedral is between four atoms with indices of 3, 6, 9, and 13. \n",
    "Here we use the Python package [mdtraj](https://mdtraj.org/) to compute dihedrals."
   ]
  },
  {
   "cell_type": "code",
   "execution_count": 31,
   "metadata": {},
   "outputs": [
    {
     "name": "stderr",
     "output_type": "stream",
     "text": [
      "mdtraj/rmsd/src/theobald_rmsd.cpp UNCONVERGED ROTATION MATRIX. RETURNING IDENTITY=296\n",
      "mdtraj/rmsd/src/theobald_rmsd.cpp UNCONVERGED ROTATION MATRIX. RETURNING IDENTITY=296\n",
      "mdtraj/rmsd/src/theobald_rmsd.cpp UNCONVERGED ROTATION MATRIX. RETURNING IDENTITY=296\n",
      "mdtraj/rmsd/src/theobald_rmsd.cpp UNCONVERGED ROTATION MATRIX. RETURNING IDENTITY=296\n",
      "mdtraj/rmsd/src/theobald_rmsd.cpp UNCONVERGED ROTATION MATRIX. RETURNING IDENTITY=296\n",
      "mdtraj/rmsd/src/theobald_rmsd.cpp UNCONVERGED ROTATION MATRIX. RETURNING IDENTITY=296\n"
     ]
    }
   ],
   "source": [
    "topology = mdtraj.load_psf(\"../data/butane.psf\")\n",
    "traj = mdtraj.load(my_dcd, top=topology)\n",
    "\n",
    "# RMSD-align trajectories to the a frame in the trajectory\n",
    "traj.superpose(traj)\n",
    "my_aligned_dcd = \"../output/traj/traj_aligned_metad_alt.dcd\"\n",
    "traj.save_dcd(my_aligned_dcd)\n",
    "\n",
    "topology = mdtraj.load_psf(\"../data/butane.psf\")\n",
    "aligned_traj = mdtraj.load(my_aligned_dcd, top=topology)\n",
    "\n"
   ]
  },
  {
   "attachments": {},
   "cell_type": "markdown",
   "metadata": {},
   "source": [
    "# 4. Compute dihedral angle\n",
    "\n",
    "Here, we compute the butane dihedrals and\n",
    "save them in csv files. The dihedral is between four atoms with indices of 3, 6, 9, and 13. \n",
    "Here again we use the Python package [mdtraj](https://mdtraj.org/) to compute dihedrals."
   ]
  },
  {
   "cell_type": "code",
   "execution_count": 32,
   "metadata": {},
   "outputs": [
    {
     "data": {
      "image/png": "[encoded data removed]",
      "text/plain": [
       "<Figure size 640x480 with 1 Axes>"
      ]
     },
     "metadata": {},
     "output_type": "display_data"
    }
   ],
   "source": [
    "theta = mdtraj.compute_dihedrals(aligned_traj, [[3, 6, 9, 13]])\n",
    "np.savetxt(f\"../output/dihedral/dihedral_metad_alt.csv\", theta, fmt = \"%.5f\", delimiter = \",\")\n",
    "\n",
    "dihedrals = np.loadtxt( f\"../output/dihedral/dihedral_metad_alt.csv\", delimiter = \",\")\n",
    "_ = plt.hist(dihedrals, bins=50, density=True)"
   ]
  },
  {
   "cell_type": "markdown",
   "metadata": {},
   "source": [
    "# Check the metadynamics free energy"
   ]
  },
  {
   "cell_type": "code",
   "execution_count": 33,
   "metadata": {},
   "outputs": [
    {
     "data": {
      "text/plain": [
       "[<matplotlib.lines.Line2D at 0x7efba470e910>]"
      ]
     },
     "execution_count": 33,
     "metadata": {},
     "output_type": "execute_result"
    },
    {
     "data": {
      "image/png": "[encoded data removed]",
      "text/plain": [
       "<Figure size 640x480 with 1 Axes>"
      ]
     },
     "metadata": {},
     "output_type": "display_data"
    },
    {
     "data": {
      "image/png": "[encoded data removed]",
      "text/plain": [
       "<Figure size 640x480 with 1 Axes>"
      ]
     },
     "metadata": {},
     "output_type": "display_data"
    }
   ],
   "source": [
    "free_energy = np.load(my_free_energy)[\"free_energy\"]\n",
    "free_energy = free_energy - np.min(free_energy)\n",
    "\n",
    "plt.figure()\n",
    "plt.plot(free_energy)\n",
    "\n",
    "plt.figure()\n",
    "plt.plot(np.exp(-free_energy/kbT))"
   ]
  },
  {
   "attachments": {},
   "cell_type": "markdown",
   "metadata": {},
   "source": [
    "Select just the atoms used for the dihedral and keep their positions in a numpy array, as well as the potential and temperature for the trajectory"
   ]
  },
  {
   "cell_type": "code",
   "execution_count": 34,
   "metadata": {},
   "outputs": [],
   "source": [
    "aligned_traj_backbone = aligned_traj.atom_slice([3, 6, 9, 13])\n",
    "aligned_traj_backbone_coords = aligned_traj_backbone.xyz\n",
    "N = aligned_traj_backbone_coords.shape[0]\n",
    "data = aligned_traj_backbone_coords.reshape(N, 12)\n",
    "\n",
    "potential = np.loadtxt(\"../output/traj/state_metad_alt.txt\", delimiter=',')[:, 1]\n",
    "fname = \"../output/butane_metad_alt.npz\"\n",
    "np.savez(fname, data=data, dihedrals=dihedrals, potential=potential, kbT=kbT, kbT_roomtemp=kbT_roomtemp, free_energy=meta.getFreeEnergy())"
   ]
  }
 ],
 "metadata": {
  "kernelspec": {
   "display_name": "Python 3.9.15 ('base')",
   "language": "python",
   "name": "python3"
  },
  "language_info": {
   "codemirror_mode": {
    "name": "ipython",
    "version": 3
   },
   "file_extension": ".py",
   "mimetype": "text/x-python",
   "name": "python",
   "nbconvert_exporter": "python",
   "pygments_lexer": "ipython3",
   "version": "3.9.15"
  },
  "vscode": {
   "interpreter": {
    "hash": "2cca94783a68be1a5aa4c90cc32b1d3e169d5a55c7bc624c364614ddddfb94ff"
   }
  }
 },
 "nbformat": 4,
 "nbformat_minor": 2
}
