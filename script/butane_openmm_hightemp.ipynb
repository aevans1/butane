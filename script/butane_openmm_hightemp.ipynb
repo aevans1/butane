{
 "cells": [
  {
   "cell_type": "code",
   "execution_count": 1,
   "metadata": {},
   "outputs": [],
   "source": [
    "import os, math, sys\n",
    "from sys import stdout\n",
    "\n",
    "import numpy as np\n",
    "import matplotlib.pyplot as plt\n",
    "import openmm.app  as omm_app\n",
    "import openmm as omm\n",
    "import simtk.unit as unit\n",
    "from tqdm import tqdm\n",
    "import mdtraj"
   ]
  },
  {
   "attachments": {},
   "cell_type": "markdown",
   "metadata": {},
   "source": [
    "### Citing: Most of the openmm data needed for butane and format of this notebook comes from [here](https://fastmbar.readthedocs.io/en/latest/butane_PMF.html)."
   ]
  },
  {
   "cell_type": "code",
   "execution_count": 2,
   "metadata": {},
   "outputs": [],
   "source": [
    "# Indicates whether to run a simulation or not\n",
    "SIMULATE = True"
   ]
  },
  {
   "attachments": {},
   "cell_type": "markdown",
   "metadata": {},
   "source": [
    "## 1. Construct an OpenMM system of butane\n",
    "We set up the MD molecular system in the format/object required by OpenMM, a class called\n",
    "[System](http://docs.openmm.org/7.1.0/api-python/generated/simtk.openmm.openmm.System.html)."
   ]
  },
  {
   "attachments": {},
   "cell_type": "markdown",
   "metadata": {},
   "source": [
    "We read in **psf** and **pdb** files for butane: butane.psf and butane.pdb.\n",
    "The psf file, butane.psf, contains the topology of butane and it is the topolgy file format used by [CHARMM](https://www.charmm.org/).\n",
    "The file used here is generated using CHARMM.\n",
    "OpenMM has parsers for topology files with different format from AMBER, CHARMM, etc."
   ]
  },
  {
   "cell_type": "code",
   "execution_count": 3,
   "metadata": {},
   "outputs": [],
   "source": [
    "psf = omm_app.CharmmPsfFile('../data/butane.psf')\n",
    "pdb = omm_app.PDBFile('../data/butane.pdb')\n",
    "topology = psf.topology"
   ]
  },
  {
   "cell_type": "markdown",
   "metadata": {},
   "source": [
    "Read CHARMM force field for butane. The CHARMM force field is downloaded from [here](http://mackerell.umaryland.edu/charmm_ff.shtml)"
   ]
  },
  {
   "cell_type": "code",
   "execution_count": 4,
   "metadata": {},
   "outputs": [],
   "source": [
    "params = omm_app.CharmmParameterSet('../data/top_all35_ethers.rtf',\n",
    "                                    '../data/par_all35_ethers.prm')"
   ]
  },
  {
   "cell_type": "markdown",
   "metadata": {},
   "source": [
    "Create a OpenMM system based on the psf file of butane and the CHARMM force field."
   ]
  },
  {
   "cell_type": "code",
   "execution_count": 5,
   "metadata": {},
   "outputs": [],
   "source": [
    "system = psf.createSystem(params, nonbondedMethod=omm_app.NoCutoff)"
   ]
  },
  {
   "attachments": {},
   "cell_type": "markdown",
   "metadata": {},
   "source": [
    "After constructing the OpenMM system of butane, we can save it in an XML formated text file, which can be used later for simulations. Therefore, if we want to use the same system in another script, we can just read the text file in an OpenMM system instead of constructing it again. This file is a readable text file and can be used to see what system information is used."
   ]
  },
  {
   "cell_type": "code",
   "execution_count": 6,
   "metadata": {},
   "outputs": [],
   "source": [
    "with open(\"../output/system.xml\", 'w') as file_handle:\n",
    "    file_handle.write(omm.XmlSerializer.serialize(system))"
   ]
  },
  {
   "cell_type": "code",
   "execution_count": 7,
   "metadata": {},
   "outputs": [],
   "source": [
    "## read the OpenMM system of butane\n",
    "with open(\"../output/system.xml\", 'r') as file_handle:\n",
    "    xml = file_handle.read()\n",
    "system = omm.XmlSerializer.deserialize(xml)\n",
    "\n",
    "## read psf and pdb file of butane\n",
    "psf = omm_app.CharmmPsfFile(\"../data/butane.psf\")\n",
    "pdb = omm_app.PDBFile('../data/butane.pdb')\n",
    "topology = psf.topology"
   ]
  },
  {
   "attachments": {},
   "cell_type": "markdown",
   "metadata": {},
   "source": [
    "# 2. Set up and run the simulation"
   ]
  },
  {
   "attachments": {},
   "cell_type": "markdown",
   "metadata": {},
   "source": [
    "In order to run simulations in OpenMM, we need to construct an OpenMM [context](http://docs.openmm.org/7.1.0/api-python/generated/simtk.openmm.openmm.Context.html), which consists of a system, an integrator and a platform.\n",
    "The system is the butane system we have constructed above.\n",
    "The integrator specifies what kind integration method we should use. Here, we will use Langevin dynamics, which corresponds to the [OpenMM.LangevinIntegrator](http://docs.openmm.org/7.1.0/api-python/generated/simtk.openmm.openmm.LangevinIntegrator.html) and the [OpenMM.LangevinMiddleIntegrator](http://docs.openmm.org/latest/api-python/generated/openmm.openmm.LangevinMiddleIntegrator.html). Here, we use the LangevinMiddleIntegrator based on [J. Phys. Chem. A 2019, 123, 28, 6056-6079](https://pubs.acs.org/doi/full/10.1021/acs.jpca.9b02771), closely related to the BAOAB [Proc. R. Soc. A. 472: 20160138](https://royalsocietypublishing.org/doi/abs/10.1098/rspa.2016.0138) scheme.\n",
    "\n",
    "The platform specifies what kind of hardware we will run simulation on. Here, we choose to use CPUs because the size of the system is quite small.\n",
    "\n",
    "Then, we initialize a [Simulation](http://docs.openmm.org/7.1.0/api-python/generated/simtk.openmm.app.simulation.Simulation.html), an api for running simulations and reporting results.\n"
   ]
  },
  {
   "cell_type": "code",
   "execution_count": 8,
   "metadata": {},
   "outputs": [],
   "source": [
    "#### setup an OpenMM context\n",
    "    \n",
    "## platform\n",
    "platform = omm.Platform.getPlatformByName('CPU')\n",
    "    \n",
    "## integrator\n",
    "T = 800 * unit.kelvin  ## temperature\n",
    "fricCoef = 10/unit.picoseconds ## friction coefficient \n",
    "stepsize = 2 * unit.femtoseconds ## integration step size\n",
    "integrator = omm.LangevinMiddleIntegrator(T, fricCoef, stepsize)\n",
    "simulation = omm_app.Simulation(topology, system, integrator)"
   ]
  },
  {
   "attachments": {},
   "cell_type": "markdown",
   "metadata": {},
   "source": [
    "We minimize the energy before running the simulations, and then add \"reporters\" to track various info on the simulation: the [DCD reporter](http://docs.openmm.org/7.2.0/api-python/generated/simtk.openmm.app.dcdreporter.DCDReporter.html#) records positions of atoms at each 100 steps (in a compressed format), and the [StateDataReporter](http://docs.openmm.org/7.1.0/api-python/generated/simtk.openmm.app.statedatareporter.StateDataReporter.html#) records the potential energy at each 100 steps.\n",
    "\n",
    "Then, we simulate."
   ]
  },
  {
   "cell_type": "code",
   "execution_count": 9,
   "metadata": {},
   "outputs": [],
   "source": [
    "my_state = \"../output/traj/state_hightemp.txt\"\n",
    "my_dcd = \"../output/traj/traj_hightemp.dcd\"\n",
    "\n",
    "if SIMULATE:\n",
    "    simulation.context.setPositions(pdb.positions)\n",
    "    if psf.boxVectors is not None:\n",
    "        print(\"we got box vectors!\")\n",
    "        simulation.context.setPeriodicBoxVectors(*psf.boxVectors)\n",
    "    simulation.minimizeEnergy()\n",
    "    \n",
    "    simulation.reporters.append(omm_app.DCDReporter(my_dcd, int(1E2)))\n",
    "    simulation.reporters.append(omm_app.StateDataReporter(my_state, 1E2, step=True, potentialEnergy=True))\n",
    "    simulation.reporters.append(omm_app.StateDataReporter(stdout, 1E6, step=True, potentialEnergy=True))\n",
    "    simulation.step(1E6)"
   ]
  },
  {
   "attachments": {},
   "cell_type": "markdown",
   "metadata": {},
   "source": [
    "## 3. RMSD-align trajectory frames to normalize out rotations and translations\n",
    "\n",
    "The command [superpose](https://mdtraj.org/1.9.4/api/generated/mdtraj.Trajectory.superpose.html) rotates/translates each frame of a trajectory (modifes `traj' object in place) to minimize the RMSD to a particular reference frame. The operation specifically used to find the RMSD between two frames is [here](https://github.com/mdtraj/mdtraj/blob/275102dc3e1a1b58f83366f1459ebab9fe575889/mdtraj/rmsd/src/theobald_rmsd.cpp) in the documentation for mdtraj.\n",
    "\n",
    "Here, we compute the butane dihedrals and\n",
    "save them in csv files. The dihedral is between four atoms with indices of 3, 6, 9, and 13. \n",
    "Here we use the Python package [mdtraj](https://mdtraj.org/) to compute dihedrals."
   ]
  },
  {
   "cell_type": "code",
   "execution_count": 10,
   "metadata": {},
   "outputs": [
    {
     "ename": "OSError",
     "evalue": "No such file: ../output/traj/traj_hightemp.dcd",
     "output_type": "error",
     "traceback": [
      "\u001b[0;31m---------------------------------------------------------------------------\u001b[0m",
      "\u001b[0;31mOSError\u001b[0m                                   Traceback (most recent call last)",
      "Cell \u001b[0;32mIn[10], line 2\u001b[0m\n\u001b[1;32m      1\u001b[0m topology \u001b[39m=\u001b[39m mdtraj\u001b[39m.\u001b[39mload_psf(\u001b[39m\"\u001b[39m\u001b[39m../data/butane.psf\u001b[39m\u001b[39m\"\u001b[39m)\n\u001b[0;32m----> 2\u001b[0m traj \u001b[39m=\u001b[39m mdtraj\u001b[39m.\u001b[39;49mload(my_dcd, top\u001b[39m=\u001b[39;49mtopology)\n\u001b[1;32m      4\u001b[0m \u001b[39m# RMSD-align trajectories to the a frame in the trajectory\u001b[39;00m\n\u001b[1;32m      5\u001b[0m traj\u001b[39m.\u001b[39msuperpose(traj)\n",
      "File \u001b[0;32m~/anaconda3/lib/python3.9/site-packages/mdtraj/core/trajectory.py:409\u001b[0m, in \u001b[0;36mload\u001b[0;34m(filename_or_filenames, discard_overlapping_frames, **kwargs)\u001b[0m\n\u001b[1;32m    403\u001b[0m     \u001b[39mraise\u001b[39;00m \u001b[39mIOError\u001b[39;00m(\u001b[39m'\u001b[39m\u001b[39mSorry, no loader for filename=\u001b[39m\u001b[39m%s\u001b[39;00m\u001b[39m (extension=\u001b[39m\u001b[39m%s\u001b[39;00m\u001b[39m) \u001b[39m\u001b[39m'\u001b[39m\n\u001b[1;32m    404\u001b[0m                 \u001b[39m'\u001b[39m\u001b[39mwas found. I can only load files \u001b[39m\u001b[39m'\u001b[39m\n\u001b[1;32m    405\u001b[0m                 \u001b[39m'\u001b[39m\u001b[39mwith extensions in \u001b[39m\u001b[39m%s\u001b[39;00m\u001b[39m'\u001b[39m \u001b[39m%\u001b[39m (\n\u001b[1;32m    406\u001b[0m                     filename_or_filenames[\u001b[39m0\u001b[39m], extension, FormatRegistry\u001b[39m.\u001b[39mloaders\u001b[39m.\u001b[39mkeys()))\n\u001b[1;32m    408\u001b[0m \u001b[39mif\u001b[39;00m loader\u001b[39m.\u001b[39m\u001b[39m__name__\u001b[39m \u001b[39mnot\u001b[39;00m \u001b[39min\u001b[39;00m [\u001b[39m'\u001b[39m\u001b[39mload_dtr\u001b[39m\u001b[39m'\u001b[39m]:\n\u001b[0;32m--> 409\u001b[0m         _assert_files_exist(filename_or_filenames)\n\u001b[1;32m    410\u001b[0m \u001b[39melse\u001b[39;00m:\n\u001b[1;32m    411\u001b[0m     _assert_files_or_dirs_exist(filename_or_filenames)\n",
      "File \u001b[0;32m~/anaconda3/lib/python3.9/site-packages/mdtraj/core/trajectory.py:100\u001b[0m, in \u001b[0;36m_assert_files_exist\u001b[0;34m(filenames)\u001b[0m\n\u001b[1;32m     98\u001b[0m \u001b[39mfor\u001b[39;00m fn \u001b[39min\u001b[39;00m filenames:\n\u001b[1;32m     99\u001b[0m     \u001b[39mif\u001b[39;00m \u001b[39mnot\u001b[39;00m (os\u001b[39m.\u001b[39mpath\u001b[39m.\u001b[39mexists(fn) \u001b[39mand\u001b[39;00m os\u001b[39m.\u001b[39mpath\u001b[39m.\u001b[39misfile(fn)):\n\u001b[0;32m--> 100\u001b[0m         \u001b[39mraise\u001b[39;00m \u001b[39mIOError\u001b[39;00m(\u001b[39m'\u001b[39m\u001b[39mNo such file: \u001b[39m\u001b[39m%s\u001b[39;00m\u001b[39m'\u001b[39m \u001b[39m%\u001b[39m fn)\n",
      "\u001b[0;31mOSError\u001b[0m: No such file: ../output/traj/traj_hightemp.dcd"
     ]
    }
   ],
   "source": [
    "topology = mdtraj.load_psf(\"../data/butane.psf\")\n",
    "traj = mdtraj.load(my_dcd, top=topology)\n",
    "\n",
    "# RMSD-align trajectories to the a frame in the trajectory\n",
    "traj.superpose(traj)\n",
    "my_aligned_dcd = \"../output/traj/traj_aligned_hightemp.dcd\"\n",
    "traj.save_dcd(my_aligned_dcd)\n",
    "\n",
    "topology = mdtraj.load_psf(\"../data/butane.psf\")\n",
    "aligned_traj = mdtraj.load(my_aligned_dcd, top=topology)\n",
    "\n"
   ]
  },
  {
   "attachments": {},
   "cell_type": "markdown",
   "metadata": {},
   "source": [
    "# 4. Compute dihedral angle\n",
    "\n",
    "Here, we compute the butane dihedrals and\n",
    "save them in csv files. The dihedral is between four atoms with indices of 3, 6, 9, and 13. \n",
    "Here again we use the Python package [mdtraj](https://mdtraj.org/) to compute dihedrals."
   ]
  },
  {
   "cell_type": "code",
   "execution_count": null,
   "metadata": {},
   "outputs": [
    {
     "ename": "",
     "evalue": "",
     "output_type": "error",
     "traceback": [
      "\u001b[1;31mRunning cells with '/bin/python3' requires the ipykernel package.\n",
      "\u001b[1;31mRun the following command to install 'ipykernel' into the Python environment. \n",
      "\u001b[1;31mCommand: '/bin/python3 -m pip install ipykernel -U --user --force-reinstall'"
     ]
    }
   ],
   "source": [
    "theta = mdtraj.compute_dihedrals(aligned_traj, [[3, 6, 9, 13]])\n",
    "np.savetxt(f\"../output/dihedral/dihedral.csv\", theta, fmt = \"%.5f\", delimiter = \",\")\n",
    "\n",
    "dihedrals = np.loadtxt( f\"../output/dihedral/dihedral.csv\", delimiter = \",\")\n",
    "_ = plt.hist(dihedrals, bins=50, density=True)"
   ]
  },
  {
   "attachments": {},
   "cell_type": "markdown",
   "metadata": {},
   "source": [
    "Select just the atoms used for the dihedral and keep their positions in a numpy array, as well as the potential and temperature for the trajectory"
   ]
  },
  {
   "cell_type": "code",
   "execution_count": null,
   "metadata": {},
   "outputs": [
    {
     "ename": "",
     "evalue": "",
     "output_type": "error",
     "traceback": [
      "\u001b[1;31mRunning cells with '/bin/python3' requires the ipykernel package.\n",
      "\u001b[1;31mRun the following command to install 'ipykernel' into the Python environment. \n",
      "\u001b[1;31mCommand: '/bin/python3 -m pip install ipykernel -U --user --force-reinstall'"
     ]
    }
   ],
   "source": [
    "aligned_traj_backbone = aligned_traj.atom_slice([3, 6, 9, 13])\n",
    "aligned_traj_backbone_coords = aligned_traj_backbone.xyz\n",
    "N = aligned_traj_backbone_coords.shape[0]\n",
    "data = aligned_traj_backbone_coords.reshape(N, 12)\n",
    "\n",
    "potential = np.loadtxt(\"../output/traj/state_hightemp.txt\", delimiter=',')[:, 1]\n",
    "kbT = unit.BOLTZMANN_CONSTANT_kB * T * unit.AVOGADRO_CONSTANT_NA \n",
    "kbT = kbT.value_in_unit(unit.kilojoule_per_mole)\n",
    "fname = \"../output/butane.npz\"\n",
    "np.savez(fname, data=data, dihedrals=dihedrals, potential=potential, kbT=kbT)"
   ]
  },
  {
   "cell_type": "code",
   "execution_count": null,
   "metadata": {},
   "outputs": [
    {
     "ename": "",
     "evalue": "",
     "output_type": "error",
     "traceback": [
      "\u001b[1;31mRunning cells with '/bin/python3' requires the ipykernel package.\n",
      "\u001b[1;31mRun the following command to install 'ipykernel' into the Python environment. \n",
      "\u001b[1;31mCommand: '/bin/python3 -m pip install ipykernel -U --user --force-reinstall'"
     ]
    }
   ],
   "source": [
    "potential_stuff = np.loadtxt(\"../output/traj/state_hightemp.txt\", delimiter=',')\n",
    "gibbs = np.exp(-potential_stuff/(kbT))\n",
    "plt.scatter(dihedrals[::1], gibbs[::1, 1], s=1.0)\n",
    "plt.xlabel(\"dihedral angle\")\n",
    "plt.ylabel(\"gibbs probability\")\n",
    "plt.ylim([0, 1E-7])"
   ]
  }
 ],
 "metadata": {
  "kernelspec": {
   "display_name": "Python 3.9.15 ('base')",
   "language": "python",
   "name": "python3"
  },
  "language_info": {
   "codemirror_mode": {
    "name": "ipython",
    "version": 3
   },
   "file_extension": ".py",
   "mimetype": "text/x-python",
   "name": "python",
   "nbconvert_exporter": "python",
   "pygments_lexer": "ipython3",
   "version": "3.9.16"
  },
  "vscode": {
   "interpreter": {
    "hash": "2cca94783a68be1a5aa4c90cc32b1d3e169d5a55c7bc624c364614ddddfb94ff"
   }
  }
 },
 "nbformat": 4,
 "nbformat_minor": 2
}
