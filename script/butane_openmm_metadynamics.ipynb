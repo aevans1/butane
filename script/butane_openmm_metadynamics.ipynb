{
 "cells": [
  {
   "cell_type": "code",
   "execution_count": 88,
   "metadata": {},
   "outputs": [],
   "source": [
    "import os, math, sys\n",
    "from sys import stdout\n",
    "\n",
    "import numpy as np\n",
    "import matplotlib.pyplot as plt\n",
    "import openmm.app  as omm_app\n",
    "import openmm as omm\n",
    "import simtk.unit as unit\n",
    "from tqdm import tqdm\n",
    "import mdtraj"
   ]
  },
  {
   "attachments": {},
   "cell_type": "markdown",
   "metadata": {},
   "source": [
    "### Citing: Most of the openmm data needed for butane and format of this notebook comes from [here](https://fastmbar.readthedocs.io/en/latest/butane_PMF.html)."
   ]
  },
  {
   "cell_type": "code",
   "execution_count": 89,
   "metadata": {},
   "outputs": [],
   "source": [
    "# Indicates whether to run a simulation or not\n",
    "SIMULATE = True"
   ]
  },
  {
   "attachments": {},
   "cell_type": "markdown",
   "metadata": {},
   "source": [
    "## 1. Construct an OpenMM system of butane\n",
    "We set up the MD molecular system in the format/object required by OpenMM, a class called\n",
    "[System](http://docs.openmm.org/7.1.0/api-python/generated/simtk.openmm.openmm.System.html)."
   ]
  },
  {
   "attachments": {},
   "cell_type": "markdown",
   "metadata": {},
   "source": [
    "We read in **psf** and **pdb** files for butane: butane.psf and butane.pdb.\n",
    "The psf file, butane.psf, contains the topology of butane and it is the topolgy file format used by [CHARMM](https://www.charmm.org/).\n",
    "The file used here is generated using CHARMM.\n",
    "OpenMM has parsers for topology files with different format from AMBER, CHARMM, etc."
   ]
  },
  {
   "cell_type": "code",
   "execution_count": 90,
   "metadata": {},
   "outputs": [],
   "source": [
    "psf = omm_app.CharmmPsfFile('../data/butane.psf')\n",
    "pdb = omm_app.PDBFile('../data/butane.pdb')\n",
    "topology = psf.topology"
   ]
  },
  {
   "cell_type": "markdown",
   "metadata": {},
   "source": [
    "Read CHARMM force field for butane. The CHARMM force field is downloaded from [here](http://mackerell.umaryland.edu/charmm_ff.shtml)"
   ]
  },
  {
   "cell_type": "code",
   "execution_count": 91,
   "metadata": {},
   "outputs": [],
   "source": [
    "params = omm_app.CharmmParameterSet('../data/top_all35_ethers.rtf',\n",
    "                                    '../data/par_all35_ethers.prm')"
   ]
  },
  {
   "cell_type": "markdown",
   "metadata": {},
   "source": [
    "Create a OpenMM system based on the psf file of butane and the CHARMM force field."
   ]
  },
  {
   "cell_type": "code",
   "execution_count": 92,
   "metadata": {},
   "outputs": [],
   "source": [
    "system = psf.createSystem(params, nonbondedMethod=omm_app.NoCutoff)"
   ]
  },
  {
   "attachments": {},
   "cell_type": "markdown",
   "metadata": {},
   "source": [
    "After constructing the OpenMM system of butane, we can save it in an XML formated text file, which can be used later for simulations. Therefore, if we want to use the same system in another script, we can just read the text file in an OpenMM system instead of constructing it again. This file is a readable text file and can be used to see what system information is used."
   ]
  },
  {
   "cell_type": "code",
   "execution_count": 93,
   "metadata": {},
   "outputs": [],
   "source": [
    "with open(\"../output/system.xml\", 'w') as file_handle:\n",
    "    file_handle.write(omm.XmlSerializer.serialize(system))"
   ]
  },
  {
   "cell_type": "code",
   "execution_count": 94,
   "metadata": {},
   "outputs": [],
   "source": [
    "## read the OpenMM system of butane\n",
    "with open(\"../output/system.xml\", 'r') as file_handle:\n",
    "    xml = file_handle.read()\n",
    "system = omm.XmlSerializer.deserialize(xml)\n",
    "\n",
    "## read psf and pdb file of butane\n",
    "psf = omm_app.CharmmPsfFile(\"../data/butane.psf\")\n",
    "pdb = omm_app.PDBFile('../data/butane.pdb')\n",
    "topology = psf.topology"
   ]
  },
  {
   "attachments": {},
   "cell_type": "markdown",
   "metadata": {},
   "source": [
    "# Set up Metadynamics"
   ]
  },
  {
   "cell_type": "code",
   "execution_count": 95,
   "metadata": {},
   "outputs": [],
   "source": [
    "# Define Collective Variable\n",
    "cv = omm.CustomTorsionForce(\"theta\")\n",
    "cv.addTorsion(3, 6, 9, 13)\n",
    "\n",
    "# Set metadynamics parameters\n",
    "biasWidth=0.2\n",
    "phi = omm_app.metadynamics.BiasVariable(force=cv, minValue=-np.pi, maxValue=np.pi, biasWidth=biasWidth, periodic=True)\n"
   ]
  },
  {
   "attachments": {},
   "cell_type": "markdown",
   "metadata": {},
   "source": [
    "# 2. Set up and run the  Metadynamics simulation"
   ]
  },
  {
   "attachments": {},
   "cell_type": "markdown",
   "metadata": {},
   "source": [
    "In order to run simulations in OpenMM, we need to construct an OpenMM [context](http://docs.openmm.org/7.1.0/api-python/generated/simtk.openmm.openmm.Context.html), which consists of a system, an integrator and a platform.\n",
    "The system is the butane system we have constructed above.\n",
    "The integrator specifies what kind integration method we should use. Here, we will use Langevin dynamics, which corresponds to the [OpenMM.LangevinIntegrator](http://docs.openmm.org/7.1.0/api-python/generated/simtk.openmm.openmm.LangevinIntegrator.html) and the [OpenMM.LangevinMiddleIntegrator](http://docs.openmm.org/latest/api-python/generated/openmm.openmm.LangevinMiddleIntegrator.html). Here, we use the LangevinMiddleIntegrator based on [J. Phys. Chem. A 2019, 123, 28, 6056-6079](https://pubs.acs.org/doi/full/10.1021/acs.jpca.9b02771), closely related to the BAOAB [Proc. R. Soc. A. 472: 20160138](https://royalsocietypublishing.org/doi/abs/10.1098/rspa.2016.0138) scheme.\n",
    "\n",
    "The platform specifies what kind of hardware we will run simulation on. Here, we choose to use CPUs because the size of the system is quite small.\n",
    "\n",
    "Then, we initialize a [Simulation](http://docs.openmm.org/7.1.0/api-python/generated/simtk.openmm.app.simulation.Simulation.html), an api for running simulations and reporting results.\n"
   ]
  },
  {
   "cell_type": "code",
   "execution_count": 96,
   "metadata": {},
   "outputs": [],
   "source": [
    "#### setup an OpenMM context\n",
    "    \n",
    "## platform\n",
    "platform = omm.Platform.getPlatformByName('CPU')\n",
    "\n",
    "T = 300 * unit.kelvin  ## temperature\n",
    "\n",
    "# Set up metadynamics\n",
    "biasFactor = 10\n",
    "height = 0.1\n",
    "frequency = 1E3\n",
    "meta = omm_app.Metadynamics(system, variables=[phi], temperature=T, biasFactor=10, height=height, frequency=frequency)\n",
    "\n",
    "## integrator\n",
    "fricCoef = 10/unit.picoseconds ## friction coefficient \n",
    "stepsize = 2 * unit.femtoseconds ## integration step size\n",
    "integrator = omm.LangevinMiddleIntegrator(T, fricCoef, stepsize)\n",
    "simulation = omm_app.Simulation(topology, system, integrator)\n",
    "\n",
    "\n"
   ]
  },
  {
   "attachments": {},
   "cell_type": "markdown",
   "metadata": {},
   "source": [
    "We minimize the energy before running the simulations, and then add \"reporters\" to track various info on the simulation: the [DCD reporter](http://docs.openmm.org/7.2.0/api-python/generated/simtk.openmm.app.dcdreporter.DCDReporter.html#) records positions of atoms at each 100 steps (in a compressed format), and the [StateDataReporter](http://docs.openmm.org/7.1.0/api-python/generated/simtk.openmm.app.statedatareporter.StateDataReporter.html#) records the potential energy at each 100 steps.\n",
    "\n",
    "Then, we simulate."
   ]
  },
  {
   "cell_type": "code",
   "execution_count": 97,
   "metadata": {},
   "outputs": [
    {
     "ename": "KeyboardInterrupt",
     "evalue": "",
     "output_type": "error",
     "traceback": [
      "\u001b[0;31m---------------------------------------------------------------------------\u001b[0m",
      "\u001b[0;31mKeyboardInterrupt\u001b[0m                         Traceback (most recent call last)",
      "Cell \u001b[0;32mIn[97], line 14\u001b[0m\n\u001b[1;32m     12\u001b[0m simulation\u001b[39m.\u001b[39mreporters\u001b[39m.\u001b[39mappend(omm_app\u001b[39m.\u001b[39mStateDataReporter(my_state, \u001b[39m1E2\u001b[39m, step\u001b[39m=\u001b[39m\u001b[39mTrue\u001b[39;00m, potentialEnergy\u001b[39m=\u001b[39m\u001b[39mTrue\u001b[39;00m))\n\u001b[1;32m     13\u001b[0m simulation\u001b[39m.\u001b[39mreporters\u001b[39m.\u001b[39mappend(omm_app\u001b[39m.\u001b[39mStateDataReporter(stdout, \u001b[39m1E6\u001b[39m, step\u001b[39m=\u001b[39m\u001b[39mTrue\u001b[39;00m, potentialEnergy\u001b[39m=\u001b[39m\u001b[39mTrue\u001b[39;00m))\n\u001b[0;32m---> 14\u001b[0m meta\u001b[39m.\u001b[39;49mstep(simulation, \u001b[39m1E5\u001b[39;49m)\n",
      "File \u001b[0;32m~/anaconda3/lib/python3.9/site-packages/openmm/app/metadynamics.py:172\u001b[0m, in \u001b[0;36mMetadynamics.step\u001b[0;34m(self, simulation, steps)\u001b[0m\n\u001b[1;32m    170\u001b[0m \u001b[39melse\u001b[39;00m:\n\u001b[1;32m    171\u001b[0m     nextSteps \u001b[39m=\u001b[39m \u001b[39mmin\u001b[39m(nextSteps, \u001b[39mself\u001b[39m\u001b[39m.\u001b[39mfrequency \u001b[39m-\u001b[39m simulation\u001b[39m.\u001b[39mcurrentStep \u001b[39m%\u001b[39m \u001b[39mself\u001b[39m\u001b[39m.\u001b[39mfrequency)\n\u001b[0;32m--> 172\u001b[0m simulation\u001b[39m.\u001b[39;49mstep(nextSteps)\n\u001b[1;32m    173\u001b[0m \u001b[39mif\u001b[39;00m simulation\u001b[39m.\u001b[39mcurrentStep \u001b[39m%\u001b[39m \u001b[39mself\u001b[39m\u001b[39m.\u001b[39mfrequency \u001b[39m==\u001b[39m \u001b[39m0\u001b[39m:\n\u001b[1;32m    174\u001b[0m     position \u001b[39m=\u001b[39m \u001b[39mself\u001b[39m\u001b[39m.\u001b[39m_force\u001b[39m.\u001b[39mgetCollectiveVariableValues(simulation\u001b[39m.\u001b[39mcontext)\n",
      "File \u001b[0;32m~/anaconda3/lib/python3.9/site-packages/openmm/app/simulation.py:141\u001b[0m, in \u001b[0;36mSimulation.step\u001b[0;34m(self, steps)\u001b[0m\n\u001b[1;32m    139\u001b[0m \u001b[39mdef\u001b[39;00m \u001b[39mstep\u001b[39m(\u001b[39mself\u001b[39m, steps):\n\u001b[1;32m    140\u001b[0m \u001b[39m    \u001b[39m\u001b[39m\"\"\"Advance the simulation by integrating a specified number of time steps.\"\"\"\u001b[39;00m\n\u001b[0;32m--> 141\u001b[0m     \u001b[39mself\u001b[39;49m\u001b[39m.\u001b[39;49m_simulate(endStep\u001b[39m=\u001b[39;49m\u001b[39mself\u001b[39;49m\u001b[39m.\u001b[39;49mcurrentStep\u001b[39m+\u001b[39;49msteps)\n",
      "File \u001b[0;32m~/anaconda3/lib/python3.9/site-packages/openmm/app/simulation.py:206\u001b[0m, in \u001b[0;36mSimulation._simulate\u001b[0;34m(self, endStep, endTime)\u001b[0m\n\u001b[1;32m    204\u001b[0m stepsToGo \u001b[39m=\u001b[39m nextSteps\n\u001b[1;32m    205\u001b[0m \u001b[39mwhile\u001b[39;00m stepsToGo \u001b[39m>\u001b[39m \u001b[39m10\u001b[39m:\n\u001b[0;32m--> 206\u001b[0m     \u001b[39mself\u001b[39;49m\u001b[39m.\u001b[39;49mintegrator\u001b[39m.\u001b[39;49mstep(\u001b[39m10\u001b[39;49m) \u001b[39m# Only take 10 steps at a time, to give Python more chances to respond to a control-c.\u001b[39;00m\n\u001b[1;32m    207\u001b[0m     stepsToGo \u001b[39m-\u001b[39m\u001b[39m=\u001b[39m \u001b[39m10\u001b[39m\n\u001b[1;32m    208\u001b[0m     \u001b[39mif\u001b[39;00m endTime \u001b[39mis\u001b[39;00m \u001b[39mnot\u001b[39;00m \u001b[39mNone\u001b[39;00m \u001b[39mand\u001b[39;00m datetime\u001b[39m.\u001b[39mnow() \u001b[39m>\u001b[39m\u001b[39m=\u001b[39m endTime:\n",
      "File \u001b[0;32m~/anaconda3/lib/python3.9/site-packages/openmm/openmm.py:2089\u001b[0m, in \u001b[0;36mLangevinMiddleIntegrator.step\u001b[0;34m(self, steps)\u001b[0m\n\u001b[1;32m   2079\u001b[0m \u001b[39mdef\u001b[39;00m \u001b[39mstep\u001b[39m(\u001b[39mself\u001b[39m, steps):\n\u001b[1;32m   2080\u001b[0m \u001b[39m    \u001b[39m\u001b[39mr\u001b[39m\u001b[39m\"\"\"\u001b[39;00m\n\u001b[1;32m   2081\u001b[0m \u001b[39m    step(self, steps)\u001b[39;00m\n\u001b[1;32m   2082\u001b[0m \u001b[39m    Advance a simulation through time by taking a series of time steps.\u001b[39;00m\n\u001b[0;32m   (...)\u001b[0m\n\u001b[1;32m   2087\u001b[0m \u001b[39m        the number of time steps to take\u001b[39;00m\n\u001b[1;32m   2088\u001b[0m \u001b[39m    \"\"\"\u001b[39;00m\n\u001b[0;32m-> 2089\u001b[0m     \u001b[39mreturn\u001b[39;00m _openmm\u001b[39m.\u001b[39;49mLangevinMiddleIntegrator_step(\u001b[39mself\u001b[39;49m, steps)\n",
      "\u001b[0;31mKeyboardInterrupt\u001b[0m: "
     ]
    }
   ],
   "source": [
    "my_state = \"../output/traj/state_metad.txt\"\n",
    "my_dcd = \"../output/traj/traj_metad.dcd\"\n",
    "\n",
    "if SIMULATE:\n",
    "    simulation.context.setPositions(pdb.positions)\n",
    "    if psf.boxVectors is not None:\n",
    "        print(\"we got box vectors!\")\n",
    "        simulation.context.setPeriodicBoxVectors(*psf.boxVectors)\n",
    "    simulation.minimizeEnergy()\n",
    "    \n",
    "    simulation.reporters.append(omm_app.DCDReporter(my_dcd, int(1E2)))\n",
    "    simulation.reporters.append(omm_app.StateDataReporter(my_state, 1E2, step=True, potentialEnergy=True))\n",
    "    simulation.reporters.append(omm_app.StateDataReporter(stdout, 1E6, step=True, potentialEnergy=True))\n",
    "    meta.step(simulation, 1E5)"
   ]
  },
  {
   "attachments": {},
   "cell_type": "markdown",
   "metadata": {},
   "source": [
    "## 3. RMSD-align trajectory frames to normalize out rotations and translations\n",
    "\n",
    "The command [superpose](https://mdtraj.org/1.9.4/api/generated/mdtraj.Trajectory.superpose.html) rotates/translates each frame of a trajectory (modifes `traj' object in place) to minimize the RMSD to a particular reference frame. The operation specifically used to find the RMSD between two frames is [here](https://github.com/mdtraj/mdtraj/blob/275102dc3e1a1b58f83366f1459ebab9fe575889/mdtraj/rmsd/src/theobald_rmsd.cpp) in the documentation for mdtraj.\n",
    "\n",
    "Here, we compute the butane dihedrals and\n",
    "save them in csv files. The dihedral is between four atoms with indices of 3, 6, 9, and 13. \n",
    "Here we use the Python package [mdtraj](https://mdtraj.org/) to compute dihedrals."
   ]
  },
  {
   "cell_type": "code",
   "execution_count": null,
   "metadata": {},
   "outputs": [],
   "source": [
    "topology = mdtraj.load_psf(\"../data/butane.psf\")\n",
    "traj = mdtraj.load(my_dcd, top=topology)\n",
    "\n",
    "# RMSD-align trajectories to the a frame in the trajectory\n",
    "traj.superpose(traj)\n",
    "my_aligned_dcd = \"../output/traj/traj_aligned_hightemp.dcd\"\n",
    "traj.save_dcd(my_aligned_dcd)\n",
    "\n",
    "topology = mdtraj.load_psf(\"../data/butane.psf\")\n",
    "aligned_traj = mdtraj.load(my_aligned_dcd, top=topology)\n",
    "\n"
   ]
  },
  {
   "attachments": {},
   "cell_type": "markdown",
   "metadata": {},
   "source": [
    "# 4. Compute dihedral angle\n",
    "\n",
    "Here, we compute the butane dihedrals and\n",
    "save them in csv files. The dihedral is between four atoms with indices of 3, 6, 9, and 13. \n",
    "Here again we use the Python package [mdtraj](https://mdtraj.org/) to compute dihedrals."
   ]
  },
  {
   "cell_type": "code",
   "execution_count": null,
   "metadata": {},
   "outputs": [
    {
     "data": {
      "image/png": "[encoded data removed]",
      "text/plain": [
       "<Figure size 640x480 with 1 Axes>"
      ]
     },
     "metadata": {},
     "output_type": "display_data"
    }
   ],
   "source": [
    "theta = mdtraj.compute_dihedrals(aligned_traj, [[3, 6, 9, 13]])\n",
    "np.savetxt(f\"../output/dihedral/dihedral.csv\", theta, fmt = \"%.5f\", delimiter = \",\")\n",
    "\n",
    "dihedrals = np.loadtxt( f\"../output/dihedral/dihedral.csv\", delimiter = \",\")\n",
    "_ = plt.hist(dihedrals, bins=50, density=True)"
   ]
  },
  {
   "attachments": {},
   "cell_type": "markdown",
   "metadata": {},
   "source": [
    "Select just the atoms used for the dihedral and keep their positions in a numpy array, as well as the potential and temperature for the trajectory"
   ]
  },
  {
   "cell_type": "code",
   "execution_count": null,
   "metadata": {},
   "outputs": [],
   "source": [
    "aligned_traj_backbone = aligned_traj.atom_slice([3, 6, 9, 13])\n",
    "aligned_traj_backbone_coords = aligned_traj_backbone.xyz\n",
    "N = aligned_traj_backbone_coords.shape[0]\n",
    "data = aligned_traj_backbone_coords.reshape(N, 12)\n",
    "\n",
    "potential = np.loadtxt(\"../output/traj/state_hightemp.txt\", delimiter=',')[:, 1]\n",
    "kbT = unit.BOLTZMANN_CONSTANT_kB * T * unit.AVOGADRO_CONSTANT_NA \n",
    "kbT = kbT.value_in_unit(unit.kilojoule_per_mole)\n",
    "fname = \"../output/butane.npz\"\n",
    "np.savez(fname, data=data, dihedrals=dihedrals, potential=potential, kbT=kbT)"
   ]
  },
  {
   "cell_type": "code",
   "execution_count": null,
   "metadata": {},
   "outputs": [
    {
     "ename": "ValueError",
     "evalue": "x and y must be the same size",
     "output_type": "error",
     "traceback": [
      "\u001b[0;31m---------------------------------------------------------------------------\u001b[0m",
      "\u001b[0;31mValueError\u001b[0m                                Traceback (most recent call last)",
      "Cell \u001b[0;32mIn[87], line 3\u001b[0m\n\u001b[1;32m      1\u001b[0m potential_stuff \u001b[39m=\u001b[39m np\u001b[39m.\u001b[39mloadtxt(\u001b[39m\"\u001b[39m\u001b[39m../output/traj/state_hightemp.txt\u001b[39m\u001b[39m\"\u001b[39m, delimiter\u001b[39m=\u001b[39m\u001b[39m'\u001b[39m\u001b[39m,\u001b[39m\u001b[39m'\u001b[39m)\n\u001b[1;32m      2\u001b[0m gibbs \u001b[39m=\u001b[39m np\u001b[39m.\u001b[39mexp(\u001b[39m-\u001b[39mpotential_stuff\u001b[39m/\u001b[39m(kbT))\n\u001b[0;32m----> 3\u001b[0m plt\u001b[39m.\u001b[39;49mscatter(dihedrals[::\u001b[39m1\u001b[39;49m], gibbs[::\u001b[39m1\u001b[39;49m, \u001b[39m1\u001b[39;49m], s\u001b[39m=\u001b[39;49m\u001b[39m1.0\u001b[39;49m)\n\u001b[1;32m      4\u001b[0m plt\u001b[39m.\u001b[39mxlabel(\u001b[39m\"\u001b[39m\u001b[39mdihedral angle\u001b[39m\u001b[39m\"\u001b[39m)\n\u001b[1;32m      5\u001b[0m plt\u001b[39m.\u001b[39mylabel(\u001b[39m\"\u001b[39m\u001b[39mgibbs probability\u001b[39m\u001b[39m\"\u001b[39m)\n",
      "File \u001b[0;32m~/anaconda3/lib/python3.9/site-packages/matplotlib/pyplot.py:2798\u001b[0m, in \u001b[0;36mscatter\u001b[0;34m(x, y, s, c, marker, cmap, norm, vmin, vmax, alpha, linewidths, edgecolors, plotnonfinite, data, **kwargs)\u001b[0m\n\u001b[1;32m   2793\u001b[0m \u001b[39m@_copy_docstring_and_deprecators\u001b[39m(Axes\u001b[39m.\u001b[39mscatter)\n\u001b[1;32m   2794\u001b[0m \u001b[39mdef\u001b[39;00m \u001b[39mscatter\u001b[39m(\n\u001b[1;32m   2795\u001b[0m         x, y, s\u001b[39m=\u001b[39m\u001b[39mNone\u001b[39;00m, c\u001b[39m=\u001b[39m\u001b[39mNone\u001b[39;00m, marker\u001b[39m=\u001b[39m\u001b[39mNone\u001b[39;00m, cmap\u001b[39m=\u001b[39m\u001b[39mNone\u001b[39;00m, norm\u001b[39m=\u001b[39m\u001b[39mNone\u001b[39;00m,\n\u001b[1;32m   2796\u001b[0m         vmin\u001b[39m=\u001b[39m\u001b[39mNone\u001b[39;00m, vmax\u001b[39m=\u001b[39m\u001b[39mNone\u001b[39;00m, alpha\u001b[39m=\u001b[39m\u001b[39mNone\u001b[39;00m, linewidths\u001b[39m=\u001b[39m\u001b[39mNone\u001b[39;00m, \u001b[39m*\u001b[39m,\n\u001b[1;32m   2797\u001b[0m         edgecolors\u001b[39m=\u001b[39m\u001b[39mNone\u001b[39;00m, plotnonfinite\u001b[39m=\u001b[39m\u001b[39mFalse\u001b[39;00m, data\u001b[39m=\u001b[39m\u001b[39mNone\u001b[39;00m, \u001b[39m*\u001b[39m\u001b[39m*\u001b[39mkwargs):\n\u001b[0;32m-> 2798\u001b[0m     __ret \u001b[39m=\u001b[39m gca()\u001b[39m.\u001b[39;49mscatter(\n\u001b[1;32m   2799\u001b[0m         x, y, s\u001b[39m=\u001b[39;49ms, c\u001b[39m=\u001b[39;49mc, marker\u001b[39m=\u001b[39;49mmarker, cmap\u001b[39m=\u001b[39;49mcmap, norm\u001b[39m=\u001b[39;49mnorm,\n\u001b[1;32m   2800\u001b[0m         vmin\u001b[39m=\u001b[39;49mvmin, vmax\u001b[39m=\u001b[39;49mvmax, alpha\u001b[39m=\u001b[39;49malpha, linewidths\u001b[39m=\u001b[39;49mlinewidths,\n\u001b[1;32m   2801\u001b[0m         edgecolors\u001b[39m=\u001b[39;49medgecolors, plotnonfinite\u001b[39m=\u001b[39;49mplotnonfinite,\n\u001b[1;32m   2802\u001b[0m         \u001b[39m*\u001b[39;49m\u001b[39m*\u001b[39;49m({\u001b[39m\"\u001b[39;49m\u001b[39mdata\u001b[39;49m\u001b[39m\"\u001b[39;49m: data} \u001b[39mif\u001b[39;49;00m data \u001b[39mis\u001b[39;49;00m \u001b[39mnot\u001b[39;49;00m \u001b[39mNone\u001b[39;49;00m \u001b[39melse\u001b[39;49;00m {}), \u001b[39m*\u001b[39;49m\u001b[39m*\u001b[39;49mkwargs)\n\u001b[1;32m   2803\u001b[0m     sci(__ret)\n\u001b[1;32m   2804\u001b[0m     \u001b[39mreturn\u001b[39;00m __ret\n",
      "File \u001b[0;32m~/anaconda3/lib/python3.9/site-packages/matplotlib/__init__.py:1433\u001b[0m, in \u001b[0;36m_preprocess_data.<locals>.inner\u001b[0;34m(ax, data, *args, **kwargs)\u001b[0m\n\u001b[1;32m   1430\u001b[0m \u001b[39m@functools\u001b[39m\u001b[39m.\u001b[39mwraps(func)\n\u001b[1;32m   1431\u001b[0m \u001b[39mdef\u001b[39;00m \u001b[39minner\u001b[39m(ax, \u001b[39m*\u001b[39margs, data\u001b[39m=\u001b[39m\u001b[39mNone\u001b[39;00m, \u001b[39m*\u001b[39m\u001b[39m*\u001b[39mkwargs):\n\u001b[1;32m   1432\u001b[0m     \u001b[39mif\u001b[39;00m data \u001b[39mis\u001b[39;00m \u001b[39mNone\u001b[39;00m:\n\u001b[0;32m-> 1433\u001b[0m         \u001b[39mreturn\u001b[39;00m func(ax, \u001b[39m*\u001b[39;49m\u001b[39mmap\u001b[39;49m(sanitize_sequence, args), \u001b[39m*\u001b[39;49m\u001b[39m*\u001b[39;49mkwargs)\n\u001b[1;32m   1435\u001b[0m     bound \u001b[39m=\u001b[39m new_sig\u001b[39m.\u001b[39mbind(ax, \u001b[39m*\u001b[39margs, \u001b[39m*\u001b[39m\u001b[39m*\u001b[39mkwargs)\n\u001b[1;32m   1436\u001b[0m     auto_label \u001b[39m=\u001b[39m (bound\u001b[39m.\u001b[39marguments\u001b[39m.\u001b[39mget(label_namer)\n\u001b[1;32m   1437\u001b[0m                   \u001b[39mor\u001b[39;00m bound\u001b[39m.\u001b[39mkwargs\u001b[39m.\u001b[39mget(label_namer))\n",
      "File \u001b[0;32m~/anaconda3/lib/python3.9/site-packages/matplotlib/axes/_axes.py:4526\u001b[0m, in \u001b[0;36mAxes.scatter\u001b[0;34m(self, x, y, s, c, marker, cmap, norm, vmin, vmax, alpha, linewidths, edgecolors, plotnonfinite, **kwargs)\u001b[0m\n\u001b[1;32m   4524\u001b[0m y \u001b[39m=\u001b[39m np\u001b[39m.\u001b[39mma\u001b[39m.\u001b[39mravel(y)\n\u001b[1;32m   4525\u001b[0m \u001b[39mif\u001b[39;00m x\u001b[39m.\u001b[39msize \u001b[39m!=\u001b[39m y\u001b[39m.\u001b[39msize:\n\u001b[0;32m-> 4526\u001b[0m     \u001b[39mraise\u001b[39;00m \u001b[39mValueError\u001b[39;00m(\u001b[39m\"\u001b[39m\u001b[39mx and y must be the same size\u001b[39m\u001b[39m\"\u001b[39m)\n\u001b[1;32m   4528\u001b[0m \u001b[39mif\u001b[39;00m s \u001b[39mis\u001b[39;00m \u001b[39mNone\u001b[39;00m:\n\u001b[1;32m   4529\u001b[0m     s \u001b[39m=\u001b[39m (\u001b[39m20\u001b[39m \u001b[39mif\u001b[39;00m mpl\u001b[39m.\u001b[39mrcParams[\u001b[39m'\u001b[39m\u001b[39m_internal.classic_mode\u001b[39m\u001b[39m'\u001b[39m] \u001b[39melse\u001b[39;00m\n\u001b[1;32m   4530\u001b[0m          mpl\u001b[39m.\u001b[39mrcParams[\u001b[39m'\u001b[39m\u001b[39mlines.markersize\u001b[39m\u001b[39m'\u001b[39m] \u001b[39m*\u001b[39m\u001b[39m*\u001b[39m \u001b[39m2.0\u001b[39m)\n",
      "\u001b[0;31mValueError\u001b[0m: x and y must be the same size"
     ]
    },
    {
     "data": {
      "image/png": "[encoded data removed]",
      "text/plain": [
       "<Figure size 640x480 with 1 Axes>"
      ]
     },
     "metadata": {},
     "output_type": "display_data"
    }
   ],
   "source": [
    "potential_stuff = np.loadtxt(\"../output/traj/state_hightemp.txt\", delimiter=',')\n",
    "gibbs = np.exp(-potential_stuff/(kbT))\n",
    "plt.scatter(dihedrals[::1], gibbs[::1, 1], s=1.0)\n",
    "plt.xlabel(\"dihedral angle\")\n",
    "plt.ylabel(\"gibbs probability\")\n",
    "plt.ylim([0, 1E-7])"
   ]
  }
 ],
 "metadata": {
  "kernelspec": {
   "display_name": "Python 3.9.15 ('base')",
   "language": "python",
   "name": "python3"
  },
  "language_info": {
   "codemirror_mode": {
    "name": "ipython",
    "version": 3
   },
   "file_extension": ".py",
   "mimetype": "text/x-python",
   "name": "python",
   "nbconvert_exporter": "python",
   "pygments_lexer": "ipython3",
   "version": "3.9.16"
  },
  "vscode": {
   "interpreter": {
    "hash": "2cca94783a68be1a5aa4c90cc32b1d3e169d5a55c7bc624c364614ddddfb94ff"
   }
  }
 },
 "nbformat": 4,
 "nbformat_minor": 2
}
